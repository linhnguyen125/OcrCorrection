{
 "cells": [
  {
   "cell_type": "code",
   "execution_count": 3,
   "metadata": {},
   "outputs": [],
   "source": [
    "import itertools\n",
    "\n",
    "from tool.utils import *"
   ]
  },
  {
   "cell_type": "code",
   "execution_count": 5,
   "metadata": {},
   "outputs": [
    {
     "name": "stdout",
     "output_type": "stream",
     "text": [
      "['Công ty Cổ Phần Việt Lào', 'Chi Nhánh Tại Thành Phố Hồ Chí Minh', 'Chi Nhánh Công ty TNHH Thương Mại An Hòa', 'Chi Nhánh Công ty TNHH Sản Xuất', 'Thương Mại', 'Xây Dựng Quang Thuận']\n"
     ]
    }
   ],
   "source": [
    "lines = [\n",
    "    \"Công ty Cổ Phần Việt Lào - Chi Nhánh Tại Thành Phố Hồ Chí Minh\",\n",
    "    \"Chi Nhánh Công ty TNHH Thương Mại An Hòa\",\n",
    "    \"Chi Nhánh Công ty TNHH Sản Xuất - Thương Mại - Xây Dựng Quang Thuận\"\n",
    "]\n",
    "phrases = itertools.chain.from_iterable(extract_phrases(text) for text in lines)\n",
    "phrases = [p.strip() for p in phrases if len(p.split()) > 1]\n",
    "print(list(phrases))"
   ]
  },
  {
   "cell_type": "code",
   "execution_count": 1,
   "metadata": {},
   "outputs": [],
   "source": [
    "import torch\n",
    "\n",
    "\n",
    "torch.cuda.empty_cache()"
   ]
  }
 ],
 "metadata": {
  "kernelspec": {
   "display_name": "Python 3",
   "language": "python",
   "name": "python3"
  },
  "language_info": {
   "codemirror_mode": {
    "name": "ipython",
    "version": 3
   },
   "file_extension": ".py",
   "mimetype": "text/x-python",
   "name": "python",
   "nbconvert_exporter": "python",
   "pygments_lexer": "ipython3",
   "version": "3.12.5"
  }
 },
 "nbformat": 4,
 "nbformat_minor": 2
}
