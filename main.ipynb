{
 "cells": [
  {
   "cell_type": "markdown",
   "metadata": {},
   "source": [
    "# Test"
   ]
  },
  {
   "cell_type": "code",
   "execution_count": 10,
   "metadata": {},
   "outputs": [
    {
     "name": "stdout",
     "output_type": "stream",
     "text": [
      "Input: Gà quay phi thuyền\n",
      "----------------------------------------------------------------------------------------------\n",
      "Output: Gà quay phi thuyền\n"
     ]
    }
   ],
   "source": [
    "import time\n",
    "\n",
    "from tool.predictor import Predictor\n",
    "\n",
    "\n",
    "model_predictor = Predictor(device='cpu')\n",
    "unacc_paragraphs = \"Gà quay phi thuyền\"\n",
    "\n",
    "start = time.time()\n",
    "\n",
    "outs = model_predictor.predict(unacc_paragraphs.strip(), NGRAM=5)\n",
    "print(f\"Input: {unacc_paragraphs}\")\n",
    "print(\"----------------------------------------------------------------------------------------------\")\n",
    "print(f\"Output: {outs}\")\n",
    "\n",
    "end = time.time()"
   ]
  },
  {
   "cell_type": "markdown",
   "metadata": {},
   "source": [
    "# Đọc hết tên file trong folder và gán vào biến để sử dụng"
   ]
  },
  {
   "cell_type": "code",
   "execution_count": 21,
   "metadata": {},
   "outputs": [
    {
     "name": "stdout",
     "output_type": "stream",
     "text": [
      "Số lượng file trong thư mục 'data': 133\n"
     ]
    }
   ],
   "source": [
    "import os\n",
    "\n",
    "# Đường dẫn tới thư mục 'data'\n",
    "folder_path = 'data'\n",
    "\n",
    "# Liệt kê tất cả các file và thư mục con trong thư mục 'data'\n",
    "all_files = os.listdir(folder_path)\n",
    "\n",
    "# Lọc ra chỉ các file\n",
    "files = [f for f in all_files if os.path.isfile(os.path.join(folder_path, f))]\n",
    "\n",
    "# Đếm số lượng file\n",
    "num_files = len(files)\n",
    "\n",
    "print(f\"Số lượng file trong thư mục '{folder_path}': {num_files}\")"
   ]
  },
  {
   "cell_type": "markdown",
   "metadata": {},
   "source": [
    "# Func check chuỗi có chứa substring ngày tháng không"
   ]
  },
  {
   "cell_type": "code",
   "execution_count": 22,
   "metadata": {},
   "outputs": [],
   "source": [
    "import re\n",
    "\n",
    "\n",
    "def check_add_item(item):\n",
    "    # Biểu thức chính quy để tìm chuỗi ngày tháng năm (định dạng dd/mm/yyyy)\n",
    "    date_pattern = r'\\b\\d{2}/\\d{2}/\\d{4}\\b'\n",
    "\n",
    "    # Tìm kiếm chuỗi ngày tháng năm trong text\n",
    "    match = re.search(date_pattern, item)\n",
    "    if match:\n",
    "        return False\n",
    "    else:\n",
    "        return True"
   ]
  },
  {
   "cell_type": "markdown",
   "metadata": {},
   "source": [
    "# Duyệt qua tất cả các file excel -> lấy itemname rồi ném tổng hợp vào file data_inventory_item.txt"
   ]
  },
  {
   "cell_type": "code",
   "execution_count": null,
   "metadata": {},
   "outputs": [],
   "source": [
    "import pandas as pd\n",
    "from tqdm import tqdm\n",
    "\n",
    "\n",
    "for file in tqdm(files[:80], desc='Processing files', ncols=100):\n",
    "    _items = []\n",
    "    # Đọc file Excel\n",
    "    df = pd.read_excel(os.path.join(folder_path, file))\n",
    "    # Lặp qua từng dòng\n",
    "    for index, row in df.iterrows():\n",
    "        if 'itemname' in row and pd.notnull(row['itemname']):\n",
    "            item = row['itemname']\n",
    "            if check_add_item(item):\n",
    "                _items.append(item)\n",
    "        \n",
    "    # Loại bỏ các phần tử trùng lặp\n",
    "    _items = list(set(_items))\n",
    "        \n",
    "    # Ghi dữ liệu vào file txt\n",
    "    with open('traindata/data_inventory_item.txt', 'a', encoding='utf-8') as f:\n",
    "        for item in _items:\n",
    "            f.write(f\"{item}\\n\")"
   ]
  },
  {
   "cell_type": "markdown",
   "metadata": {},
   "source": [
    "# Đổi tên file hàng loạt"
   ]
  },
  {
   "cell_type": "code",
   "execution_count": 14,
   "metadata": {},
   "outputs": [
    {
     "name": "stdout",
     "output_type": "stream",
     "text": [
      "Đổi tên file thành công!\n"
     ]
    }
   ],
   "source": [
    "import os\n",
    "\n",
    "# Đường dẫn tới thư mục chứa các file cần đổi tên\n",
    "folder_path = 'Invoices'\n",
    "\n",
    "# Liệt kê tất cả các file trong thư mục\n",
    "all_files = os.listdir(folder_path)\n",
    "\n",
    "# Lặp qua từng file và đổi tên\n",
    "for index, file in enumerate(all_files):\n",
    "    # Tạo tên file mới\n",
    "    new_name = f\"invoice_{index}.jpg\"  # Thay đổi quy tắc đặt tên theo nhu cầu của bạn\n",
    "    \n",
    "    # Đường dẫn đầy đủ tới file cũ và file mới\n",
    "    old_file = os.path.join(folder_path, file)\n",
    "    new_file = os.path.join(folder_path, new_name)\n",
    "    \n",
    "    # Đổi tên file\n",
    "    os.rename(old_file, new_file)\n",
    "\n",
    "print(\"Đổi tên file thành công!\")"
   ]
  },
  {
   "cell_type": "markdown",
   "metadata": {},
   "source": [
    "# Tổng hợp lại file data_inventory_item.txt\n",
    "## - Bỏ hết các dòng trùng nhau\n",
    "## - Bỏ dòng trống"
   ]
  },
  {
   "cell_type": "code",
   "execution_count": 25,
   "metadata": {},
   "outputs": [],
   "source": [
    "_lines = []\n",
    "# Mở file và đọc từng dòng\n",
    "with open('traindata/data_inventory_item.txt', 'r', encoding='utf-8') as file:\n",
    "    lines = file.readlines()\n",
    "\n",
    "# Lặp qua từng dòng\n",
    "for line in lines:\n",
    "    if line.strip():\n",
    "        _lines.append(line.strip())\n",
    "        \n",
    "# Loại bỏ phần tử trùng lặp\n",
    "_lines = list(set(_lines))\n",
    "\n",
    "# Ghi dữ liệu vào file\n",
    "with open('traindata/data_inventory_item.txt', 'w', encoding='utf-8') as file:\n",
    "    for line in _lines:\n",
    "        file.write(f\"{line}\\n\")"
   ]
  },
  {
   "cell_type": "code",
   "execution_count": 13,
   "metadata": {},
   "outputs": [
    {
     "name": "stdout",
     "output_type": "stream",
     "text": [
      "['Giấy nhám P 180 Kovax KT 9 x11']\n"
     ]
    }
   ],
   "source": [
    "import re\n",
    "from config import alphabet\n",
    "\n",
    "\n",
    "def extract_phrases(text):\n",
    "    \"\"\"\n",
    "    Sử dụng biểu thức chính quy để tìm các cụm từ\\n\n",
    "    Ex: \"Hello world! This is a test.\" -> [\"Hello world\", \"This is a test\"]\n",
    "    \"\"\"\n",
    "    text = ''.join([c for c in text if c in alphabet])\n",
    "    return re.findall(r'\\w[\\w ]+', text)\n",
    "\n",
    "phase = extract_phrases(\"- Giấy nhám P 180 Kovax KT 9 x11''\")\n",
    "print(phase)"
   ]
  }
 ],
 "metadata": {
  "kernelspec": {
   "display_name": "Python 3",
   "language": "python",
   "name": "python3"
  },
  "language_info": {
   "codemirror_mode": {
    "name": "ipython",
    "version": 3
   },
   "file_extension": ".py",
   "mimetype": "text/x-python",
   "name": "python",
   "nbconvert_exporter": "python",
   "pygments_lexer": "ipython3",
   "version": "3.12.5"
  }
 },
 "nbformat": 4,
 "nbformat_minor": 2
}
